{
 "cells": [
  {
   "cell_type": "code",
   "execution_count": 1,
   "id": "d8c0ded5-0920-412f-a922-d34ff3959831",
   "metadata": {},
   "outputs": [],
   "source": [
    "import praw\n",
    "import pandas as pd"
   ]
  },
  {
   "cell_type": "code",
   "execution_count": 2,
   "id": "022a1ff2-7bdf-4157-a610-2ead2dad4b9e",
   "metadata": {},
   "outputs": [],
   "source": [
    "#insert api keys\n",
    "reddit_read_only = praw.Reddit(client_id = '',\n",
    "                     client_secret = '',\n",
    "                     user_agent = '') "
   ]
  },
  {
   "cell_type": "code",
   "execution_count": 3,
   "id": "c01dc97e-13bb-4e4e-92ee-e3d58b803fe4",
   "metadata": {},
   "outputs": [
    {
     "name": "stderr",
     "output_type": "stream",
     "text": [
      "C:\\Users\\Jimmy\\AppData\\Local\\Temp\\ipykernel_35308\\2918508983.py:8: DeprecationWarning: Positional arguments for 'BaseListingMixin.top' will no longer be supported in PRAW 8.\n",
      "Call this function with 'time_filter' as a keyword argument.\n",
      "  for post in subreddit.top('day'):\n"
     ]
    }
   ],
   "source": [
    "subreddit = reddit_read_only.subreddit('wallstreetbets')\n",
    "\n",
    "list1 = []\n",
    "list2 = []\n",
    "list3 = []\n",
    "list4 = []\n",
    "\n",
    "for post in subreddit.top('day'):\n",
    "    words = post.title.split()\n",
    "    cashtags = list(set(filter(lambda word: word.lower().startswith('$'), words)))\n",
    "    \n",
    "    if len(cashtags) > 0:\n",
    "        list1.append(post.title)\n",
    "        list2.append(post.url)  \n",
    "        list3.append(post.score)\n",
    "        list4.append(post.num_comments)"
   ]
  },
  {
   "cell_type": "code",
   "execution_count": 4,
   "id": "1df82e61-7c11-4d34-9f88-4d39de951454",
   "metadata": {},
   "outputs": [
    {
     "data": {
      "text/html": [
       "<div>\n",
       "<style scoped>\n",
       "    .dataframe tbody tr th:only-of-type {\n",
       "        vertical-align: middle;\n",
       "    }\n",
       "\n",
       "    .dataframe tbody tr th {\n",
       "        vertical-align: top;\n",
       "    }\n",
       "\n",
       "    .dataframe thead th {\n",
       "        text-align: right;\n",
       "    }\n",
       "</style>\n",
       "<table border=\"1\" class=\"dataframe\">\n",
       "  <thead>\n",
       "    <tr style=\"text-align: right;\">\n",
       "      <th></th>\n",
       "      <th>title</th>\n",
       "      <th>url</th>\n",
       "      <th>score</th>\n",
       "      <th>total comments</th>\n",
       "    </tr>\n",
       "  </thead>\n",
       "  <tbody>\n",
       "    <tr>\n",
       "      <th>0</th>\n",
       "      <td>Holding $35K+ in SPY calls expiring EOD tomorr...</td>\n",
       "      <td>https://www.reddit.com/r/wallstreetbets/commen...</td>\n",
       "      <td>2622</td>\n",
       "      <td>1435</td>\n",
       "    </tr>\n",
       "    <tr>\n",
       "      <th>1</th>\n",
       "      <td>my intricate stock analysis proves i should th...</td>\n",
       "      <td>https://i.redd.it/migbmluctr4a1.png</td>\n",
       "      <td>197</td>\n",
       "      <td>109</td>\n",
       "    </tr>\n",
       "    <tr>\n",
       "      <th>2</th>\n",
       "      <td>The free Gold Hedge Snoo #1 has an offer for $...</td>\n",
       "      <td>https://i.redd.it/4ayewo5x5x4a1.jpg</td>\n",
       "      <td>52</td>\n",
       "      <td>53</td>\n",
       "    </tr>\n",
       "    <tr>\n",
       "      <th>3</th>\n",
       "      <td>$SPY put loss porn, lost my ass today, rolled ...</td>\n",
       "      <td>https://i.redd.it/p74ep8abst4a1.jpg</td>\n",
       "      <td>37</td>\n",
       "      <td>14</td>\n",
       "    </tr>\n",
       "    <tr>\n",
       "      <th>4</th>\n",
       "      <td>Foxconn unit invests $500 mln in India affiliate</td>\n",
       "      <td>https://www.reuters.com/markets/asia/foxconn-u...</td>\n",
       "      <td>23</td>\n",
       "      <td>15</td>\n",
       "    </tr>\n",
       "    <tr>\n",
       "      <th>5</th>\n",
       "      <td>ALMOST $1M CAD $LI SHORT. Earnings play for to...</td>\n",
       "      <td>https://www.reddit.com/r/wallstreetbets/commen...</td>\n",
       "      <td>24</td>\n",
       "      <td>24</td>\n",
       "    </tr>\n",
       "    <tr>\n",
       "      <th>6</th>\n",
       "      <td>Fears of bankruptcy hit Carvana shares after a...</td>\n",
       "      <td>https://103degrees.com/fears-of-bankruptcy-hit...</td>\n",
       "      <td>16</td>\n",
       "      <td>6</td>\n",
       "    </tr>\n",
       "    <tr>\n",
       "      <th>7</th>\n",
       "      <td>$HD Home Depot Short</td>\n",
       "      <td>https://www.reddit.com/gallery/zh3chv</td>\n",
       "      <td>12</td>\n",
       "      <td>14</td>\n",
       "    </tr>\n",
       "    <tr>\n",
       "      <th>8</th>\n",
       "      <td>$33K HHC Yolo now up to $38K</td>\n",
       "      <td>https://i.redd.it/oug1mo3cir4a1.png</td>\n",
       "      <td>8</td>\n",
       "      <td>5</td>\n",
       "    </tr>\n",
       "    <tr>\n",
       "      <th>9</th>\n",
       "      <td>ATVI - MSFT merger at $95, which one of you is...</td>\n",
       "      <td>https://i.redd.it/8d1a2gh6hw4a1.png</td>\n",
       "      <td>8</td>\n",
       "      <td>10</td>\n",
       "    </tr>\n",
       "    <tr>\n",
       "      <th>10</th>\n",
       "      <td>ChatGPT will kill $CHGG</td>\n",
       "      <td>https://www.reddit.com/r/wallstreetbets/commen...</td>\n",
       "      <td>5</td>\n",
       "      <td>16</td>\n",
       "    </tr>\n",
       "  </tbody>\n",
       "</table>\n",
       "</div>"
      ],
      "text/plain": [
       "                                                title  \\\n",
       "0   Holding $35K+ in SPY calls expiring EOD tomorr...   \n",
       "1   my intricate stock analysis proves i should th...   \n",
       "2   The free Gold Hedge Snoo #1 has an offer for $...   \n",
       "3   $SPY put loss porn, lost my ass today, rolled ...   \n",
       "4    Foxconn unit invests $500 mln in India affiliate   \n",
       "5   ALMOST $1M CAD $LI SHORT. Earnings play for to...   \n",
       "6   Fears of bankruptcy hit Carvana shares after a...   \n",
       "7                                $HD Home Depot Short   \n",
       "8                        $33K HHC Yolo now up to $38K   \n",
       "9   ATVI - MSFT merger at $95, which one of you is...   \n",
       "10                            ChatGPT will kill $CHGG   \n",
       "\n",
       "                                                  url  score  total comments  \n",
       "0   https://www.reddit.com/r/wallstreetbets/commen...   2622            1435  \n",
       "1                 https://i.redd.it/migbmluctr4a1.png    197             109  \n",
       "2                 https://i.redd.it/4ayewo5x5x4a1.jpg     52              53  \n",
       "3                 https://i.redd.it/p74ep8abst4a1.jpg     37              14  \n",
       "4   https://www.reuters.com/markets/asia/foxconn-u...     23              15  \n",
       "5   https://www.reddit.com/r/wallstreetbets/commen...     24              24  \n",
       "6   https://103degrees.com/fears-of-bankruptcy-hit...     16               6  \n",
       "7               https://www.reddit.com/gallery/zh3chv     12              14  \n",
       "8                 https://i.redd.it/oug1mo3cir4a1.png      8               5  \n",
       "9                 https://i.redd.it/8d1a2gh6hw4a1.png      8              10  \n",
       "10  https://www.reddit.com/r/wallstreetbets/commen...      5              16  "
      ]
     },
     "execution_count": 4,
     "metadata": {},
     "output_type": "execute_result"
    }
   ],
   "source": [
    "df = pd.DataFrame(list(zip(list1,list2,list3,list4)),\n",
    "                  columns = ['title','url','score','total comments'])\n",
    "df"
   ]
  },
  {
   "cell_type": "code",
   "execution_count": 6,
   "id": "8742b7bb-2965-4168-b70f-7cfcbe501668",
   "metadata": {},
   "outputs": [],
   "source": [
    "df.to_csv('day05_top_posts.csv')"
   ]
  },
  {
   "cell_type": "code",
   "execution_count": 6,
   "id": "c79265bc-0aad-4bed-92bf-9fa57d48ffe9",
   "metadata": {},
   "outputs": [
    {
     "data": {
      "text/plain": [
       "'https://i.redd.it/49zb21awd04a1.jpg'"
      ]
     },
     "execution_count": 6,
     "metadata": {},
     "output_type": "execute_result"
    }
   ],
   "source": [
    "df.url[0]"
   ]
  },
  {
   "cell_type": "code",
   "execution_count": 14,
   "id": "e50d77b2-87fc-46b7-91a3-8917c8d4f1c6",
   "metadata": {
    "tags": []
   },
   "outputs": [
    {
     "data": {
      "text/html": [
       "<div>\n",
       "<style scoped>\n",
       "    .dataframe tbody tr th:only-of-type {\n",
       "        vertical-align: middle;\n",
       "    }\n",
       "\n",
       "    .dataframe tbody tr th {\n",
       "        vertical-align: top;\n",
       "    }\n",
       "\n",
       "    .dataframe thead th {\n",
       "        text-align: right;\n",
       "    }\n",
       "</style>\n",
       "<table border=\"1\" class=\"dataframe\">\n",
       "  <thead>\n",
       "    <tr style=\"text-align: right;\">\n",
       "      <th></th>\n",
       "      <th>comment</th>\n",
       "    </tr>\n",
       "  </thead>\n",
       "  <tbody>\n",
       "    <tr>\n",
       "      <th>0</th>\n",
       "      <td>\\n**User Report**| | | |\\n:--|:--|:--|:--\\n**T...</td>\n",
       "    </tr>\n",
       "    <tr>\n",
       "      <th>1</th>\n",
       "      <td>Somebody is gobbling up shares by the million ...</td>\n",
       "    </tr>\n",
       "    <tr>\n",
       "      <th>2</th>\n",
       "      <td>Charts showing  a Trisomy 21 formation. Bag ho...</td>\n",
       "    </tr>\n",
       "  </tbody>\n",
       "</table>\n",
       "</div>"
      ],
      "text/plain": [
       "                                             comment\n",
       "0  \\n**User Report**| | | |\\n:--|:--|:--|:--\\n**T...\n",
       "1  Somebody is gobbling up shares by the million ...\n",
       "2  Charts showing  a Trisomy 21 formation. Bag ho..."
      ]
     },
     "execution_count": 14,
     "metadata": {},
     "output_type": "execute_result"
    }
   ],
   "source": [
    "url = df.url[0]\n",
    "submission = reddit_read_only.submission(url=url)\n",
    "from praw.models import MoreComments\n",
    "post_comments = []\n",
    "\n",
    "for comments in submission.comments:\n",
    "    if type(comments) == MoreComments:\n",
    "        continue\n",
    "        \n",
    "    post_comments.append(comments.body)\n",
    "\n",
    "comments_df = pd.DataFrame(post_comments, columns=['comment'])\n",
    "comments_df"
   ]
  },
  {
   "cell_type": "code",
   "execution_count": 7,
   "id": "09ee624f-5627-4b6c-bce5-9c0407f0698a",
   "metadata": {},
   "outputs": [],
   "source": [
    "comments_df.to_csv('day05_top_posts_comment_01.csv')"
   ]
  },
  {
   "cell_type": "code",
   "execution_count": 9,
   "id": "1aacdc66-5755-45a0-bceb-9614ab935d8e",
   "metadata": {},
   "outputs": [],
   "source": [
    "comments_df.to_csv('day05_top_posts_comment_02.csv')"
   ]
  },
  {
   "cell_type": "code",
   "execution_count": 11,
   "id": "ab0a7c4d-c6ba-4fb0-8179-2d70090f0a12",
   "metadata": {},
   "outputs": [],
   "source": [
    "comments_df.to_csv('day05_top_posts_comment_04.csv')"
   ]
  },
  {
   "cell_type": "code",
   "execution_count": 13,
   "id": "bad6fd6d-606f-4ae8-afb7-610c24001257",
   "metadata": {},
   "outputs": [],
   "source": [
    "comments_df.to_csv('day05_top_posts_comment_06.csv')"
   ]
  },
  {
   "cell_type": "code",
   "execution_count": 15,
   "id": "1315decb-8ca0-417f-84e1-76282c733fe9",
   "metadata": {},
   "outputs": [],
   "source": [
    "comments_df.to_csv('day05_top_posts_comment_07.csv')"
   ]
  },
  {
   "cell_type": "code",
   "execution_count": null,
   "id": "a68cd67a-8627-45bd-9dd5-ed7a25f081cf",
   "metadata": {},
   "outputs": [],
   "source": []
  }
 ],
 "metadata": {
  "kernelspec": {
   "display_name": "Python 3 (ipykernel)",
   "language": "python",
   "name": "python3"
  },
  "language_info": {
   "codemirror_mode": {
    "name": "ipython",
    "version": 3
   },
   "file_extension": ".py",
   "mimetype": "text/x-python",
   "name": "python",
   "nbconvert_exporter": "python",
   "pygments_lexer": "ipython3",
   "version": "3.9.12"
  }
 },
 "nbformat": 4,
 "nbformat_minor": 5
}
